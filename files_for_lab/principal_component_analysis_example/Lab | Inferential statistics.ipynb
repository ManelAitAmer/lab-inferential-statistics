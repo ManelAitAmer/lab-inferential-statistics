{
 "cells": [
  {
   "cell_type": "markdown",
   "id": "34895c3f",
   "metadata": {},
   "source": [
    "# Lab | Inferential statistics"
   ]
  },
  {
   "cell_type": "markdown",
   "id": "eb0d8f91",
   "metadata": {},
   "source": [
    "\n",
    "\n",
    "### Instructions\n",
    "\n",
    "1. It is assumed that the mean systolic blood pressure is `μ = 120 mm Hg`. In the Honolulu Heart Study, a sample of `n = 100` people had an average systolic blood pressure of 130.1 mm Hg with a standard deviation of 21.21 mm Hg. Is the group significantly different (with respect to systolic blood pressure!) from the regular population?\n",
    "\n",
    "   - Set up the hypothesis test.\n",
    "   - Write down all the steps followed for setting up the test.\n",
    "   - Calculate the test statistic by hand and also code it in Python. It should be 4.76190. We will take a look at how to make decisions based on this calculated value."
   ]
  },
  {
   "cell_type": "code",
   "execution_count": 7,
   "id": "d8f71d6b",
   "metadata": {},
   "outputs": [],
   "source": [
    "\n",
    "import math\n",
    "import numpy as np\n",
    "import scipy.stats as st"
   ]
  },
  {
   "cell_type": "markdown",
   "id": "9f536efa",
   "metadata": {},
   "source": [
    "#### Hypothesis test:"
   ]
  },
  {
   "cell_type": "markdown",
   "id": "4cb51ace",
   "metadata": {},
   "source": [
    "Null Hypothesis (H0): The mean systolic blood pressure of the group is equal to the population mean (μ = 120 mm Hg).\n",
    "\n",
    "Alternative Hypothesis (H1): The mean systolic blood pressure of the group is not equal to the population mean (μ ≠ 120 mm Hg)."
   ]
  },
  {
   "cell_type": "code",
   "execution_count": 2,
   "id": "1cb359a3",
   "metadata": {},
   "outputs": [],
   "source": [
    "mu=120\n",
    "sample_mean = 130.1  \n",
    "pop_std = 21.21    \n",
    "n = 100      \n",
    "alpha = 0.05  "
   ]
  },
  {
   "cell_type": "code",
   "execution_count": 9,
   "id": "a290b6d7",
   "metadata": {},
   "outputs": [
    {
     "data": {
      "text/plain": [
       "4.761904761904759"
      ]
     },
     "execution_count": 9,
     "metadata": {},
     "output_type": "execute_result"
    }
   ],
   "source": [
    "statistics = (sample_mean - mu) / (pop_std / math.sqrt(n))\n",
    "statistics\n",
    "                                    "
   ]
  },
  {
   "cell_type": "code",
   "execution_count": 14,
   "id": "caefcb9c",
   "metadata": {},
   "outputs": [
    {
     "data": {
      "text/plain": [
       "-1.9599639845400545"
      ]
     },
     "execution_count": 14,
     "metadata": {},
     "output_type": "execute_result"
    }
   ],
   "source": [
    "critic_value=st.norm.ppf(.025) \n",
    "critic_value"
   ]
  },
  {
   "cell_type": "code",
   "execution_count": 13,
   "id": "003782ad",
   "metadata": {},
   "outputs": [
    {
     "data": {
      "text/plain": [
       "6.562701817208617e-06"
      ]
     },
     "execution_count": 13,
     "metadata": {},
     "output_type": "execute_result"
    }
   ],
   "source": [
    "p_value = st.t.sf(abs(statistics), n-1)*2\n",
    "p_value"
   ]
  },
  {
   "cell_type": "code",
   "execution_count": 15,
   "id": "2ba294c2",
   "metadata": {},
   "outputs": [],
   "source": [
    "if p_value <= alpha:\n",
    "    decision = \"We Reject Null Hypothesis (H0)\"\n",
    "else:\n",
    "    decision = \"Fail to reject Null Hypothesis (H0)\""
   ]
  },
  {
   "cell_type": "code",
   "execution_count": 16,
   "id": "0bd5ed7c",
   "metadata": {},
   "outputs": [
    {
     "data": {
      "text/plain": [
       "'We Reject Null Hypothesis (H0)'"
      ]
     },
     "execution_count": 16,
     "metadata": {},
     "output_type": "execute_result"
    }
   ],
   "source": [
    "decision"
   ]
  },
  {
   "cell_type": "code",
   "execution_count": null,
   "id": "85bc3fac",
   "metadata": {},
   "outputs": [],
   "source": []
  }
 ],
 "metadata": {
  "kernelspec": {
   "display_name": "Python 3 (ipykernel)",
   "language": "python",
   "name": "python3"
  },
  "language_info": {
   "codemirror_mode": {
    "name": "ipython",
    "version": 3
   },
   "file_extension": ".py",
   "mimetype": "text/x-python",
   "name": "python",
   "nbconvert_exporter": "python",
   "pygments_lexer": "ipython3",
   "version": "3.11.5"
  }
 },
 "nbformat": 4,
 "nbformat_minor": 5
}
